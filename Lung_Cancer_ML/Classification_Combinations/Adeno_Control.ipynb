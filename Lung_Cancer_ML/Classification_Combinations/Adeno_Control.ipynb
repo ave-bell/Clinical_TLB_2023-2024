{
 "cells": [
  {
   "cell_type": "code",
   "execution_count": 1,
   "metadata": {},
   "outputs": [],
   "source": [
    "import pandas as pd # standard\n",
    "import numpy as np # standard\n",
    "from sklearn.ensemble import RandomForestClassifier\n",
    "from sklearn.metrics import accuracy_score # for accuracy calculation\n",
    "from sklearn.metrics import balanced_accuracy_score\n",
    "from sklearn.metrics import roc_auc_score\n",
    "\n",
    "import matplotlib.pyplot as plt\n",
    "import seaborn as sns\n",
    "\n",
    "import thermogram_utilities\n",
    "\n",
    "import warnings\n",
    "warnings.filterwarnings(\"ignore\")"
   ]
  },
  {
   "cell_type": "code",
   "execution_count": 2,
   "metadata": {},
   "outputs": [],
   "source": [
    "df = pd.read_excel(\"/Users/avery/OneDrive/Documents/GitHub/Clinical_TLB_2023-2024/lung_cancer_tlb.xlsx\")\n",
    "df['CancerType'] = np.where(df['CancerType'].isna(), 'Control', df['CancerType'])"
   ]
  },
  {
   "cell_type": "code",
   "execution_count": 3,
   "metadata": {},
   "outputs": [],
   "source": [
    "# get location of cut off values\n",
    "lower_column_index = df.columns.get_loc(\"T51\")\n",
    "upper_column_index = df.columns.get_loc(\"T83.1\")\n",
    "label_column_index = df.columns.get_loc(\"CancerType\")\n",
    "\n",
    "column_indices = np.arange(lower_column_index, upper_column_index)\n",
    "column_indices = np.append(column_indices, 0)\n",
    "column_indices = np.append(column_indices, 1)\n",
    "\n",
    "\n",
    "\n",
    "column_indices = np.append(column_indices, label_column_index)\n",
    "\n",
    "df = df.iloc[:, column_indices]\n",
    "\n",
    "# keep only Control and Adenocarcinoma for analysis\n",
    "df_tree = df[(df['CancerType'] == 'Control') | (df['CancerType'] == 'Adenocarcinoma')]\n",
    "df_tree = df_tree.reset_index(drop=True)"
   ]
  },
  {
   "cell_type": "code",
   "execution_count": 4,
   "metadata": {},
   "outputs": [],
   "source": [
    "# set adeno to 1 and squamous to 0\n",
    "df_tree['CancerType'] = np.where(df_tree['CancerType'] == \"Adenocarcinoma\", 1, 0)\n",
    "\n",
    "df_tree = df_tree.drop([\"pub_id\", \"sample_id\"], axis = 1)"
   ]
  },
  {
   "cell_type": "code",
   "execution_count": 5,
   "metadata": {},
   "outputs": [
    {
     "ename": "KeyboardInterrupt",
     "evalue": "",
     "output_type": "error",
     "traceback": [
      "\u001b[1;31m---------------------------------------------------------------------------\u001b[0m",
      "\u001b[1;31mKeyboardInterrupt\u001b[0m                         Traceback (most recent call last)",
      "\u001b[1;32mc:\\Users\\avery\\OneDrive\\Documents\\GitHub\\Clinical_TLB_2023-2024\\weekly_jupyter_nbs\\Classification_Combinations\\Adeno_Control.ipynb Cell 5\u001b[0m line \u001b[0;36m1\n\u001b[0;32m     <a href='vscode-notebook-cell:/c%3A/Users/avery/OneDrive/Documents/GitHub/Clinical_TLB_2023-2024/weekly_jupyter_nbs/Classification_Combinations/Adeno_Control.ipynb#W4sZmlsZQ%3D%3D?line=9'>10</a>\u001b[0m all_indices \u001b[39m=\u001b[39m np\u001b[39m.\u001b[39marange(num_rows)\n\u001b[0;32m     <a href='vscode-notebook-cell:/c%3A/Users/avery/OneDrive/Documents/GitHub/Clinical_TLB_2023-2024/weekly_jupyter_nbs/Classification_Combinations/Adeno_Control.ipynb#W4sZmlsZQ%3D%3D?line=11'>12</a>\u001b[0m \u001b[39m# Columns to drop\u001b[39;00m\n\u001b[0;32m     <a href='vscode-notebook-cell:/c%3A/Users/avery/OneDrive/Documents/GitHub/Clinical_TLB_2023-2024/weekly_jupyter_nbs/Classification_Combinations/Adeno_Control.ipynb#W4sZmlsZQ%3D%3D?line=12'>13</a>\u001b[0m \u001b[39m#drop_cols = ['sample_id', 'pub_id', 'CancerType']\u001b[39;00m\n\u001b[0;32m     <a href='vscode-notebook-cell:/c%3A/Users/avery/OneDrive/Documents/GitHub/Clinical_TLB_2023-2024/weekly_jupyter_nbs/Classification_Combinations/Adeno_Control.ipynb#W4sZmlsZQ%3D%3D?line=13'>14</a>\u001b[0m \n\u001b[0;32m     <a href='vscode-notebook-cell:/c%3A/Users/avery/OneDrive/Documents/GitHub/Clinical_TLB_2023-2024/weekly_jupyter_nbs/Classification_Combinations/Adeno_Control.ipynb#W4sZmlsZQ%3D%3D?line=14'>15</a>\u001b[0m \u001b[39m# Loop for specified iterations\u001b[39;00m\n\u001b[1;32m---> <a href='vscode-notebook-cell:/c%3A/Users/avery/OneDrive/Documents/GitHub/Clinical_TLB_2023-2024/weekly_jupyter_nbs/Classification_Combinations/Adeno_Control.ipynb#W4sZmlsZQ%3D%3D?line=15'>16</a>\u001b[0m \u001b[39mfor\u001b[39;00m i \u001b[39min\u001b[39;00m \u001b[39mrange\u001b[39;49m(total_bootstraps):\n\u001b[0;32m     <a href='vscode-notebook-cell:/c%3A/Users/avery/OneDrive/Documents/GitHub/Clinical_TLB_2023-2024/weekly_jupyter_nbs/Classification_Combinations/Adeno_Control.ipynb#W4sZmlsZQ%3D%3D?line=16'>17</a>\u001b[0m     \n\u001b[0;32m     <a href='vscode-notebook-cell:/c%3A/Users/avery/OneDrive/Documents/GitHub/Clinical_TLB_2023-2024/weekly_jupyter_nbs/Classification_Combinations/Adeno_Control.ipynb#W4sZmlsZQ%3D%3D?line=17'>18</a>\u001b[0m     \u001b[39m# Randomly select indices to use as the train set\u001b[39;00m\n\u001b[0;32m     <a href='vscode-notebook-cell:/c%3A/Users/avery/OneDrive/Documents/GitHub/Clinical_TLB_2023-2024/weekly_jupyter_nbs/Classification_Combinations/Adeno_Control.ipynb#W4sZmlsZQ%3D%3D?line=18'>19</a>\u001b[0m     train_indices \u001b[39m=\u001b[39m np\u001b[39m.\u001b[39mrandom\u001b[39m.\u001b[39mchoice(num_rows, num_rows, replace\u001b[39m=\u001b[39m\u001b[39mTrue\u001b[39;00m)\n\u001b[0;32m     <a href='vscode-notebook-cell:/c%3A/Users/avery/OneDrive/Documents/GitHub/Clinical_TLB_2023-2024/weekly_jupyter_nbs/Classification_Combinations/Adeno_Control.ipynb#W4sZmlsZQ%3D%3D?line=20'>21</a>\u001b[0m     \u001b[39m# Get the train set using the indices\u001b[39;00m\n",
      "\u001b[1;32mc:\\Users\\avery\\OneDrive\\Documents\\GitHub\\Clinical_TLB_2023-2024\\weekly_jupyter_nbs\\Classification_Combinations\\Adeno_Control.ipynb Cell 5\u001b[0m line \u001b[0;36m1\n\u001b[0;32m     <a href='vscode-notebook-cell:/c%3A/Users/avery/OneDrive/Documents/GitHub/Clinical_TLB_2023-2024/weekly_jupyter_nbs/Classification_Combinations/Adeno_Control.ipynb#W4sZmlsZQ%3D%3D?line=9'>10</a>\u001b[0m all_indices \u001b[39m=\u001b[39m np\u001b[39m.\u001b[39marange(num_rows)\n\u001b[0;32m     <a href='vscode-notebook-cell:/c%3A/Users/avery/OneDrive/Documents/GitHub/Clinical_TLB_2023-2024/weekly_jupyter_nbs/Classification_Combinations/Adeno_Control.ipynb#W4sZmlsZQ%3D%3D?line=11'>12</a>\u001b[0m \u001b[39m# Columns to drop\u001b[39;00m\n\u001b[0;32m     <a href='vscode-notebook-cell:/c%3A/Users/avery/OneDrive/Documents/GitHub/Clinical_TLB_2023-2024/weekly_jupyter_nbs/Classification_Combinations/Adeno_Control.ipynb#W4sZmlsZQ%3D%3D?line=12'>13</a>\u001b[0m \u001b[39m#drop_cols = ['sample_id', 'pub_id', 'CancerType']\u001b[39;00m\n\u001b[0;32m     <a href='vscode-notebook-cell:/c%3A/Users/avery/OneDrive/Documents/GitHub/Clinical_TLB_2023-2024/weekly_jupyter_nbs/Classification_Combinations/Adeno_Control.ipynb#W4sZmlsZQ%3D%3D?line=13'>14</a>\u001b[0m \n\u001b[0;32m     <a href='vscode-notebook-cell:/c%3A/Users/avery/OneDrive/Documents/GitHub/Clinical_TLB_2023-2024/weekly_jupyter_nbs/Classification_Combinations/Adeno_Control.ipynb#W4sZmlsZQ%3D%3D?line=14'>15</a>\u001b[0m \u001b[39m# Loop for specified iterations\u001b[39;00m\n\u001b[1;32m---> <a href='vscode-notebook-cell:/c%3A/Users/avery/OneDrive/Documents/GitHub/Clinical_TLB_2023-2024/weekly_jupyter_nbs/Classification_Combinations/Adeno_Control.ipynb#W4sZmlsZQ%3D%3D?line=15'>16</a>\u001b[0m \u001b[39mfor\u001b[39;00m i \u001b[39min\u001b[39;00m \u001b[39mrange\u001b[39;49m(total_bootstraps):\n\u001b[0;32m     <a href='vscode-notebook-cell:/c%3A/Users/avery/OneDrive/Documents/GitHub/Clinical_TLB_2023-2024/weekly_jupyter_nbs/Classification_Combinations/Adeno_Control.ipynb#W4sZmlsZQ%3D%3D?line=16'>17</a>\u001b[0m     \n\u001b[0;32m     <a href='vscode-notebook-cell:/c%3A/Users/avery/OneDrive/Documents/GitHub/Clinical_TLB_2023-2024/weekly_jupyter_nbs/Classification_Combinations/Adeno_Control.ipynb#W4sZmlsZQ%3D%3D?line=17'>18</a>\u001b[0m     \u001b[39m# Randomly select indices to use as the train set\u001b[39;00m\n\u001b[0;32m     <a href='vscode-notebook-cell:/c%3A/Users/avery/OneDrive/Documents/GitHub/Clinical_TLB_2023-2024/weekly_jupyter_nbs/Classification_Combinations/Adeno_Control.ipynb#W4sZmlsZQ%3D%3D?line=18'>19</a>\u001b[0m     train_indices \u001b[39m=\u001b[39m np\u001b[39m.\u001b[39mrandom\u001b[39m.\u001b[39mchoice(num_rows, num_rows, replace\u001b[39m=\u001b[39m\u001b[39mTrue\u001b[39;00m)\n\u001b[0;32m     <a href='vscode-notebook-cell:/c%3A/Users/avery/OneDrive/Documents/GitHub/Clinical_TLB_2023-2024/weekly_jupyter_nbs/Classification_Combinations/Adeno_Control.ipynb#W4sZmlsZQ%3D%3D?line=20'>21</a>\u001b[0m     \u001b[39m# Get the train set using the indices\u001b[39;00m\n",
      "File \u001b[1;32m_pydevd_bundle/pydevd_cython.pyx:1457\u001b[0m, in \u001b[0;36m_pydevd_bundle.pydevd_cython.SafeCallWrapper.__call__\u001b[1;34m()\u001b[0m\n",
      "File \u001b[1;32m_pydevd_bundle/pydevd_cython.pyx:701\u001b[0m, in \u001b[0;36m_pydevd_bundle.pydevd_cython.PyDBFrame.trace_dispatch\u001b[1;34m()\u001b[0m\n",
      "File \u001b[1;32m_pydevd_bundle/pydevd_cython.pyx:1395\u001b[0m, in \u001b[0;36m_pydevd_bundle.pydevd_cython.PyDBFrame.trace_dispatch\u001b[1;34m()\u001b[0m\n",
      "File \u001b[1;32m_pydevd_bundle/pydevd_cython.pyx:1344\u001b[0m, in \u001b[0;36m_pydevd_bundle.pydevd_cython.PyDBFrame.trace_dispatch\u001b[1;34m()\u001b[0m\n",
      "File \u001b[1;32m_pydevd_bundle/pydevd_cython.pyx:312\u001b[0m, in \u001b[0;36m_pydevd_bundle.pydevd_cython.PyDBFrame.do_wait_suspend\u001b[1;34m()\u001b[0m\n",
      "File \u001b[1;32m~\\AppData\\Roaming\\Python\\Python310\\site-packages\\debugpy\\_vendored\\pydevd\\pydevd.py:2070\u001b[0m, in \u001b[0;36mPyDB.do_wait_suspend\u001b[1;34m(self, thread, frame, event, arg, exception_type)\u001b[0m\n\u001b[0;32m   2067\u001b[0m             from_this_thread\u001b[39m.\u001b[39mappend(frame_custom_thread_id)\n\u001b[0;32m   2069\u001b[0m     \u001b[39mwith\u001b[39;00m \u001b[39mself\u001b[39m\u001b[39m.\u001b[39m_threads_suspended_single_notification\u001b[39m.\u001b[39mnotify_thread_suspended(thread_id, thread, stop_reason):\n\u001b[1;32m-> 2070\u001b[0m         keep_suspended \u001b[39m=\u001b[39m \u001b[39mself\u001b[39;49m\u001b[39m.\u001b[39;49m_do_wait_suspend(thread, frame, event, arg, suspend_type, from_this_thread, frames_tracker)\n\u001b[0;32m   2072\u001b[0m frames_list \u001b[39m=\u001b[39m \u001b[39mNone\u001b[39;00m\n\u001b[0;32m   2074\u001b[0m \u001b[39mif\u001b[39;00m keep_suspended:\n\u001b[0;32m   2075\u001b[0m     \u001b[39m# This means that we should pause again after a set next statement.\u001b[39;00m\n",
      "File \u001b[1;32m~\\AppData\\Roaming\\Python\\Python310\\site-packages\\debugpy\\_vendored\\pydevd\\pydevd.py:2106\u001b[0m, in \u001b[0;36mPyDB._do_wait_suspend\u001b[1;34m(self, thread, frame, event, arg, suspend_type, from_this_thread, frames_tracker)\u001b[0m\n\u001b[0;32m   2103\u001b[0m         \u001b[39mself\u001b[39m\u001b[39m.\u001b[39m_call_input_hook()\n\u001b[0;32m   2105\u001b[0m     \u001b[39mself\u001b[39m\u001b[39m.\u001b[39mprocess_internal_commands()\n\u001b[1;32m-> 2106\u001b[0m     time\u001b[39m.\u001b[39;49msleep(\u001b[39m0.01\u001b[39;49m)\n\u001b[0;32m   2108\u001b[0m \u001b[39mself\u001b[39m\u001b[39m.\u001b[39mcancel_async_evaluation(get_current_thread_id(thread), \u001b[39mstr\u001b[39m(\u001b[39mid\u001b[39m(frame)))\n\u001b[0;32m   2110\u001b[0m \u001b[39m# process any stepping instructions\u001b[39;00m\n",
      "\u001b[1;31mKeyboardInterrupt\u001b[0m: "
     ]
    }
   ],
   "source": [
    "performance_metrics = pd.DataFrame(columns=['Weighted Accuracy', 'AUC', 'n_estimators', \"max_depth\", \"max_features\"])\n",
    "\n",
    "# Set number of bootstraps\n",
    "total_bootstraps = 1000\n",
    "\n",
    "# Length of df\n",
    "num_rows = df_tree.shape[0]\n",
    "\n",
    "# Create array of all indices in the full data set\n",
    "all_indices = np.arange(num_rows)\n",
    "\n",
    "# Columns to drop\n",
    "#drop_cols = ['sample_id', 'pub_id', 'CancerType']\n",
    "\n",
    "# Loop for specified iterations\n",
    "for i in range(total_bootstraps):\n",
    "    \n",
    "    # Randomly select indices to use as the train set\n",
    "    train_indices = np.random.choice(num_rows, num_rows, replace=True)\n",
    "\n",
    "    # Get the train set using the indices\n",
    "    train_set = df_tree.iloc[train_indices, : ]\n",
    "\n",
    "    # Get indices not included in train_indices to use as the test set\n",
    "    test_indices = np.setdiff1d(all_indices, train_indices)\n",
    "\n",
    "    # Get the test set using test indices\n",
    "    test_set = df_tree.iloc[test_indices, :]\n",
    "\n",
    "    # Drop 'CancerType' column from train and test sets\n",
    "    train_set_no_target = train_set.drop('CancerType', axis=1)\n",
    "    test_set_no_target = test_set.drop('CancerType', axis=1)\n",
    "\n",
    "    for trees in [100, 250, 500, 1000]:\n",
    "            \n",
    "        for depth in [num_rows//2, None]:\n",
    "\n",
    "            for features in [\"sqrt\", \"log2\", None]:\n",
    "\n",
    "                # Initialize random forest (default settings)\n",
    "                clf = RandomForestClassifier(n_estimators=trees, max_depth=depth, max_features=features, n_jobs= -1)\n",
    "\n",
    "                # Train the random forest\n",
    "                clf = clf.fit(train_set_no_target, train_set['CancerType'])\n",
    "\n",
    "                # Get probabilities\n",
    "                test_probabilities = clf.predict_proba(test_set_no_target)\n",
    "\n",
    "                # Test the decision tree\n",
    "                test_predictions = clf.predict(test_set_no_target)\n",
    "\n",
    "                # Calculate weighted accuracy\n",
    "                balanced_acc = balanced_accuracy_score(test_set['CancerType'], test_predictions)\n",
    "\n",
    "                # Calculate AUC\n",
    "                auc = roc_auc_score(test_set['CancerType'], test_probabilities[:, 1])\n",
    "\n",
    "                # Append accuracy, AUC to results DataFrame\n",
    "                performance_metrics.loc[len(performance_metrics)] = [balanced_acc, auc, trees, depth, features]\n",
    "\n",
    "    performance_metrics.to_excel('Adeno_Control.xlsx', index=False)\n",
    "\n",
    "    print(i)\n"
   ]
  }
 ],
 "metadata": {
  "kernelspec": {
   "display_name": "Python 3",
   "language": "python",
   "name": "python3"
  },
  "language_info": {
   "codemirror_mode": {
    "name": "ipython",
    "version": 3
   },
   "file_extension": ".py",
   "mimetype": "text/x-python",
   "name": "python",
   "nbconvert_exporter": "python",
   "pygments_lexer": "ipython3",
   "version": "3.10.11"
  }
 },
 "nbformat": 4,
 "nbformat_minor": 2
}
