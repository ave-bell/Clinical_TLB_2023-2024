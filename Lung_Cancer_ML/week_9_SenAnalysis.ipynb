{
 "cells": [
  {
   "cell_type": "code",
   "execution_count": 2,
   "metadata": {},
   "outputs": [],
   "source": [
    "import pandas as pd # standard\n",
    "import numpy as np # standard\n",
    "from sklearn.ensemble import RandomForestClassifier\n",
    "from sklearn.metrics import accuracy_score # for accuracy calculation\n",
    "from sklearn.metrics import balanced_accuracy_score\n",
    "from sklearn.metrics import roc_auc_score\n",
    "\n",
    "import matplotlib.pyplot as plt\n",
    "import seaborn as sns\n",
    "\n",
    "import thermogram_utilities\n",
    "\n",
    "import warnings\n",
    "warnings.filterwarnings(\"ignore\")"
   ]
  },
  {
   "cell_type": "code",
   "execution_count": 7,
   "metadata": {},
   "outputs": [],
   "source": [
    "df = pd.read_excel(\"/Users/avery/OneDrive/Documents/GitHub/Clinical_TLB_2023-2024/lung_cancer_tlb.xlsx\")\n",
    "df['CancerType'] = np.where(df['CancerType'].isna(), 'Control', df['CancerType'])"
   ]
  },
  {
   "cell_type": "code",
   "execution_count": 8,
   "metadata": {},
   "outputs": [
    {
     "data": {
      "text/plain": [
       "CancerType\n",
       "Adenocarcinoma    72\n",
       "Control           51\n",
       "Squamous          46\n",
       "SCLC              16\n",
       "NOS                8\n",
       "Large cell         6\n",
       "Name: count, dtype: int64"
      ]
     },
     "execution_count": 8,
     "metadata": {},
     "output_type": "execute_result"
    }
   ],
   "source": [
    "df['CancerType'].value_counts()"
   ]
  },
  {
   "cell_type": "code",
   "execution_count": 3,
   "metadata": {},
   "outputs": [],
   "source": [
    "df = pd.read_excel(\"/Users/avery/OneDrive/Documents/GitHub/Clinical_TLB_2023-2024/lung_cancer_tlb.xlsx\")\n",
    "\n",
    "# replace NA with control\n",
    "df['CancerType'] = np.where(df['CancerType'].isna(), 'Control', df['CancerType'])\n",
    "\n",
    "# get location of cut off values\n",
    "lower_column_index = df.columns.get_loc(\"T51\")\n",
    "upper_column_index = df.columns.get_loc(\"T83.1\")\n",
    "label_column_index = df.columns.get_loc(\"CancerType\")\n",
    "\n",
    "column_indices = np.arange(lower_column_index, upper_column_index)\n",
    "column_indices = np.append(column_indices, 0)\n",
    "column_indices = np.append(column_indices, 1)\n",
    "\n",
    "\n",
    "\n",
    "column_indices = np.append(column_indices, label_column_index)\n",
    "\n",
    "df = df.iloc[:, column_indices]\n",
    "\n",
    "# keep only Control and Adenocarcinoma for analysis\n",
    "df_tree = df[(df['CancerType'] == 'Control') | (df['CancerType'] == 'Adenocarcinoma')]\n",
    "df_tree = df_tree.reset_index(drop=True)"
   ]
  },
  {
   "cell_type": "code",
   "execution_count": 4,
   "metadata": {},
   "outputs": [
    {
     "name": "stdout",
     "output_type": "stream",
     "text": [
      "0\n"
     ]
    }
   ],
   "source": [
    "performance_metrics = pd.DataFrame(columns=['Weighted Accuracy', 'AUC', 'n_estimators', \"max_depth\", \"max_features\"])\n",
    "\n",
    "# set number of bootstraps\n",
    "total_bootstraps = 100\n",
    "\n",
    "# length of df\n",
    "num_rows = df_tree.shape[0]\n",
    "\n",
    "# create array of all indices in full data set\n",
    "all_indices = np.arange(num_rows)\n",
    "\n",
    "# columns to drop\n",
    "drop_cols = ['sample_id', 'pub_id', 'CancerType']\n",
    "\n",
    "\n",
    "# loop for specified iterations\n",
    "for i in range(total_bootstraps):\n",
    "    \n",
    "    # randomly select indices to use as train set\n",
    "    train_indices = np.random.choice(num_rows, num_rows, replace = True)\n",
    "\n",
    "    # get the train set using the indices\n",
    "    train_set = df_tree.iloc[train_indices, : ]\n",
    "\n",
    "    # get indices not included in train_indices to use as test set\n",
    "    test_indices = np.setdiff1d(all_indices, train_indices)\n",
    "\n",
    "    # get test set using test indices\n",
    "    test_set = df_tree.iloc[test_indices, :]\n",
    "\n",
    "    for trees in [100, 250, 500, 1000]:\n",
    "            \n",
    "        for depth in [round(num_rows/2), None]:\n",
    "\n",
    "            for features in [\"sqrt\", \"log2\", None]:\n",
    "\n",
    "\n",
    "                # initialize random forest (default settings)\n",
    "                clf = RandomForestClassifier(n_estimators=trees, max_depth=depth, max_features=features)\n",
    "\n",
    "                # train forest\n",
    "                clf = clf.fit(train_set.drop(drop_cols, axis = 1), train_set['CancerType'])\n",
    "\n",
    "                # get probabilities\n",
    "                test_probabilities = clf.predict_proba(test_set.drop(drop_cols, axis = 1))\n",
    "\n",
    "                # test decision tree\n",
    "                test_predictions = clf.predict(test_set.drop(drop_cols, axis = 1))\n",
    "\n",
    "                # calculate weighted accuracy\n",
    "                balanced_acc = balanced_accuracy_score(test_set['CancerType'], test_predictions)\n",
    "\n",
    "                # calculate AUC\n",
    "                auc = roc_auc_score(test_set['CancerType'] == 'Control', test_probabilities[:, 1])\n",
    "\n",
    "                # append accuracy, auc to results df\n",
    "                performance_metrics.loc[len(performance_metrics)] = [balanced_acc, auc, trees, depth, features]\n",
    "\n",
    "    performance_metrics.to_excel('sensitivity_analysis_2.xlsx', index=False)\n",
    "\n",
    "    print(i)\n",
    "\n"
   ]
  },
  {
   "cell_type": "code",
   "execution_count": 3,
   "metadata": {},
   "outputs": [],
   "source": [
    "sensitivity_analysis_df = pd.read_excel(\"sensitivity_analysis_1.xlsx\")\n",
    "sensitivity_analysis_df[\"max_features\"] = sensitivity_analysis_df['max_features'].fillna('None')\n",
    "sensitivity_analysis_df[\"max_depth\"] = sensitivity_analysis_df['max_depth'].fillna('None')\n",
    "result = sensitivity_analysis_df.groupby(['n_estimators', 'max_depth', 'max_features']).mean()"
   ]
  },
  {
   "cell_type": "code",
   "execution_count": 5,
   "metadata": {},
   "outputs": [],
   "source": [
    "boot_strap_number = np.repeat(np.arange(0, 1000), 24)\n",
    "boot_strap_number = pd.Series(boot_strap_number)\n",
    "result = pd.concat([boot_strap_number, sensitivity_analysis_df], axis=1)\n",
    "result[\"max_features\"] = result['max_features'].fillna('None')\n",
    "\n",
    "result_1 = result.groupby(['n_estimators', 'max_depth', 'max_features']).mean()"
   ]
  },
  {
   "cell_type": "markdown",
   "metadata": {},
   "source": [
    "We use sort_values() to sort the DataFrame by 'Value' in descending order.\n",
    "We then use groupby('Group') to group the sorted DataFrame by the 'Group' column.\n",
    "Finally, we use .head(1) to select the first row within each group, which corresponds to the row with the highest 'Value'."
   ]
  },
  {
   "cell_type": "code",
   "execution_count": null,
   "metadata": {},
   "outputs": [
    {
     "data": {
      "text/html": [
       "<div>\n",
       "<style scoped>\n",
       "    .dataframe tbody tr th:only-of-type {\n",
       "        vertical-align: middle;\n",
       "    }\n",
       "\n",
       "    .dataframe tbody tr th {\n",
       "        vertical-align: top;\n",
       "    }\n",
       "\n",
       "    .dataframe thead th {\n",
       "        text-align: right;\n",
       "    }\n",
       "</style>\n",
       "<table border=\"1\" class=\"dataframe\">\n",
       "  <thead>\n",
       "    <tr style=\"text-align: right;\">\n",
       "      <th></th>\n",
       "      <th>0</th>\n",
       "      <th>Weighted Accuracy</th>\n",
       "      <th>AUC</th>\n",
       "      <th>n_estimators</th>\n",
       "      <th>max_depth</th>\n",
       "      <th>max_features</th>\n",
       "    </tr>\n",
       "  </thead>\n",
       "  <tbody>\n",
       "    <tr>\n",
       "      <th>18495</th>\n",
       "      <td>770</td>\n",
       "      <td>0.829228</td>\n",
       "      <td>0.818555</td>\n",
       "      <td>250</td>\n",
       "      <td>123</td>\n",
       "      <td>sqrt</td>\n",
       "    </tr>\n",
       "    <tr>\n",
       "      <th>6888</th>\n",
       "      <td>287</td>\n",
       "      <td>0.815686</td>\n",
       "      <td>0.803922</td>\n",
       "      <td>50</td>\n",
       "      <td>62</td>\n",
       "      <td>sqrt</td>\n",
       "    </tr>\n",
       "    <tr>\n",
       "      <th>19377</th>\n",
       "      <td>807</td>\n",
       "      <td>0.800926</td>\n",
       "      <td>0.807870</td>\n",
       "      <td>100</td>\n",
       "      <td>123</td>\n",
       "      <td>sqrt</td>\n",
       "    </tr>\n",
       "    <tr>\n",
       "      <th>13340</th>\n",
       "      <td>555</td>\n",
       "      <td>0.798137</td>\n",
       "      <td>0.740683</td>\n",
       "      <td>500</td>\n",
       "      <td>62</td>\n",
       "      <td>None</td>\n",
       "    </tr>\n",
       "    <tr>\n",
       "      <th>20483</th>\n",
       "      <td>853</td>\n",
       "      <td>0.792735</td>\n",
       "      <td>0.727564</td>\n",
       "      <td>100</td>\n",
       "      <td>123</td>\n",
       "      <td>None</td>\n",
       "    </tr>\n",
       "    <tr>\n",
       "      <th>...</th>\n",
       "      <td>...</td>\n",
       "      <td>...</td>\n",
       "      <td>...</td>\n",
       "      <td>...</td>\n",
       "      <td>...</td>\n",
       "      <td>...</td>\n",
       "    </tr>\n",
       "    <tr>\n",
       "      <th>15727</th>\n",
       "      <td>655</td>\n",
       "      <td>0.476716</td>\n",
       "      <td>0.484069</td>\n",
       "      <td>100</td>\n",
       "      <td>62</td>\n",
       "      <td>log2</td>\n",
       "    </tr>\n",
       "    <tr>\n",
       "      <th>12723</th>\n",
       "      <td>530</td>\n",
       "      <td>0.453202</td>\n",
       "      <td>0.376847</td>\n",
       "      <td>50</td>\n",
       "      <td>123</td>\n",
       "      <td>sqrt</td>\n",
       "    </tr>\n",
       "    <tr>\n",
       "      <th>1178</th>\n",
       "      <td>49</td>\n",
       "      <td>0.452012</td>\n",
       "      <td>0.383127</td>\n",
       "      <td>50</td>\n",
       "      <td>62</td>\n",
       "      <td>None</td>\n",
       "    </tr>\n",
       "    <tr>\n",
       "      <th>17242</th>\n",
       "      <td>718</td>\n",
       "      <td>0.445701</td>\n",
       "      <td>0.418552</td>\n",
       "      <td>100</td>\n",
       "      <td>123</td>\n",
       "      <td>log2</td>\n",
       "    </tr>\n",
       "    <tr>\n",
       "      <th>23260</th>\n",
       "      <td>969</td>\n",
       "      <td>0.435185</td>\n",
       "      <td>0.420782</td>\n",
       "      <td>50</td>\n",
       "      <td>123</td>\n",
       "      <td>log2</td>\n",
       "    </tr>\n",
       "  </tbody>\n",
       "</table>\n",
       "<p>1000 rows × 6 columns</p>\n",
       "</div>"
      ],
      "text/plain": [
       "         0  Weighted Accuracy       AUC  n_estimators  max_depth max_features\n",
       "18495  770           0.829228  0.818555           250        123         sqrt\n",
       "6888   287           0.815686  0.803922            50         62         sqrt\n",
       "19377  807           0.800926  0.807870           100        123         sqrt\n",
       "13340  555           0.798137  0.740683           500         62         None\n",
       "20483  853           0.792735  0.727564           100        123         None\n",
       "...    ...                ...       ...           ...        ...          ...\n",
       "15727  655           0.476716  0.484069           100         62         log2\n",
       "12723  530           0.453202  0.376847            50        123         sqrt\n",
       "1178    49           0.452012  0.383127            50         62         None\n",
       "17242  718           0.445701  0.418552           100        123         log2\n",
       "23260  969           0.435185  0.420782            50        123         log2\n",
       "\n",
       "[1000 rows x 6 columns]"
      ]
     },
     "metadata": {},
     "output_type": "display_data"
    }
   ],
   "source": [
    "hyper_parameter_combinations = result.sort_values(by='Weighted Accuracy', ascending=False).groupby(0).head(1)\n",
    "\n",
    "hyper_parameter_combinations"
   ]
  },
  {
   "cell_type": "code",
   "execution_count": 6,
   "metadata": {},
   "outputs": [
    {
     "data": {
      "text/plain": [
       "<Axes: xlabel='n_estimators', ylabel='Weighted Accuracy'>"
      ]
     },
     "execution_count": 6,
     "metadata": {},
     "output_type": "execute_result"
    },
    {
     "data": {
      "image/png": "[encoded data removed]",
      "text/plain": [
       "<Figure size 640x480 with 1 Axes>"
      ]
     },
     "metadata": {},
     "output_type": "display_data"
    }
   ],
   "source": [
    "sns.boxplot(data=result, x='n_estimators', y='Weighted Accuracy')"
   ]
  },
  {
   "cell_type": "code",
   "execution_count": 7,
   "metadata": {},
   "outputs": [
    {
     "data": {
      "text/plain": [
       "<Axes: xlabel='max_depth', ylabel='Weighted Accuracy'>"
      ]
     },
     "execution_count": 7,
     "metadata": {},
     "output_type": "execute_result"
    },
    {
     "data": {
      "image/png": "[encoded data removed]",
      "text/plain": [
       "<Figure size 640x480 with 1 Axes>"
      ]
     },
     "metadata": {},
     "output_type": "display_data"
    }
   ],
   "source": [
    "sns.boxplot(data=result, x='max_depth', y='Weighted Accuracy')\n"
   ]
  },
  {
   "cell_type": "code",
   "execution_count": null,
   "metadata": {},
   "outputs": [
    {
     "data": {
      "text/plain": [
       "<Axes: xlabel='max_features', ylabel='Weighted Accuracy'>"
      ]
     },
     "metadata": {},
     "output_type": "display_data"
    },
    {
     "data": {
      "image/png": "[encoded data removed]",
      "text/plain": [
       "<Figure size 640x480 with 1 Axes>"
      ]
     },
     "metadata": {},
     "output_type": "display_data"
    }
   ],
   "source": [
    "sns.boxplot(data=result, x='max_features', y='Weighted Accuracy')\n"
   ]
  },
  {
   "cell_type": "code",
   "execution_count": null,
   "metadata": {},
   "outputs": [
    {
     "data": {
      "text/plain": [
       "n_estimators\n",
       "50     404\n",
       "100    292\n",
       "250    181\n",
       "500    123\n",
       "Name: count, dtype: int64"
      ]
     },
     "metadata": {},
     "output_type": "display_data"
    }
   ],
   "source": [
    "hyper_parameter_combinations['n_estimators'].value_counts()"
   ]
  }
 ],
 "metadata": {
  "kernelspec": {
   "display_name": "Python 3",
   "language": "python",
   "name": "python3"
  },
  "language_info": {
   "codemirror_mode": {
    "name": "ipython",
    "version": 3
   },
   "file_extension": ".py",
   "mimetype": "text/x-python",
   "name": "python",
   "nbconvert_exporter": "python",
   "pygments_lexer": "ipython3",
   "version": "3.10.11"
  }
 },
 "nbformat": 4,
 "nbformat_minor": 2
}
