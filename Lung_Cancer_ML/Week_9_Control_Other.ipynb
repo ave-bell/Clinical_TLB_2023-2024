{
 "cells": [
  {
   "cell_type": "code",
   "execution_count": null,
   "metadata": {},
   "outputs": [],
   "source": [
    "import pandas as pd # standard\n",
    "import numpy as np # standard\n",
    "from sklearn.ensemble import RandomForestClassifier\n",
    "from sklearn.metrics import accuracy_score # for accuracy calculation\n",
    "from sklearn.metrics import balanced_accuracy_score\n",
    "from sklearn.metrics import roc_auc_score\n",
    "\n",
    "import matplotlib.pyplot as plt\n",
    "import seaborn as sns\n",
    "\n",
    "import thermogram_utilities\n",
    "\n",
    "import warnings\n",
    "warnings.filterwarnings(\"ignore\")"
   ]
  },
  {
   "cell_type": "code",
   "execution_count": null,
   "metadata": {},
   "outputs": [],
   "source": [
    "df = pd.read_excel(\"/Users/avery/OneDrive/Documents/GitHub/Clinical_TLB_2023-2024/lung_cancer_tlb.xlsx\")\n",
    "df['CancerType'] = np.where(df['CancerType'].isna(), 'Control', df['CancerType'])\n",
    "df['CancerType'] = np.where(df['CancerType'] == \"Control\", 'Control', 'Other')\n",
    "df['CancerType'].value_counts()"
   ]
  },
  {
   "cell_type": "code",
   "execution_count": null,
   "metadata": {},
   "outputs": [],
   "source": [
    "\n",
    "# replace NA with control\n",
    "\n",
    "# get location of cut off values\n",
    "lower_column_index = df.columns.get_loc(\"T51\")\n",
    "upper_column_index = df.columns.get_loc(\"T83.1\")\n",
    "label_column_index = df.columns.get_loc(\"CancerType\")\n",
    "\n",
    "column_indices = np.arange(lower_column_index, upper_column_index)\n",
    "column_indices = np.append(column_indices, 0)\n",
    "column_indices = np.append(column_indices, 1)\n",
    "\n",
    "\n",
    "\n",
    "column_indices = np.append(column_indices, label_column_index)\n",
    "\n",
    "df = df.iloc[:, column_indices]\n",
    "\n",
    "df_tree = df.reset_index(drop=True)"
   ]
  },
  {
   "cell_type": "code",
   "execution_count": null,
   "metadata": {},
   "outputs": [],
   "source": [
    "performance_metrics = pd.DataFrame(columns=['Weighted Accuracy', 'AUC', 'n_estimators', \"max_depth\", \"max_features\"])\n",
    "\n",
    "# set number of bootstraps\n",
    "total_bootstraps = 1000\n",
    "\n",
    "# length of df\n",
    "num_rows = df_tree.shape[0]\n",
    "\n",
    "# create array of all indices in full data set\n",
    "all_indices = np.arange(num_rows)\n",
    "\n",
    "# columns to drop\n",
    "drop_cols = ['sample_id', 'pub_id', 'CancerType']\n",
    "\n",
    "\n",
    "# loop for specified iterations\n",
    "for i in range(total_bootstraps):\n",
    "    \n",
    "    # randomly select indices to use as train set\n",
    "    train_indices = np.random.choice(num_rows, num_rows, replace = True)\n",
    "\n",
    "    # get the train set using the indices\n",
    "    train_set = df_tree.iloc[train_indices, : ]\n",
    "\n",
    "    # get indices not included in train_indices to use as test set\n",
    "    test_indices = np.setdiff1d(all_indices, train_indices)\n",
    "\n",
    "    # get test set using test indices\n",
    "    test_set = df_tree.iloc[test_indices, :]\n",
    "\n",
    "    for trees in [100, 250, 500, 1000]:\n",
    "            \n",
    "        for depth in [num_rows//2, None]:\n",
    "\n",
    "            for features in [\"sqrt\", \"log2\", None]:\n",
    "\n",
    "\n",
    "                # initialize random forest (default settings)\n",
    "                clf = RandomForestClassifier(n_estimators=trees, max_depth=depth, max_features=features, n_jobs = -1)\n",
    "\n",
    "                # train forest\n",
    "                clf = clf.fit(train_set.drop(drop_cols, axis = 1), train_set['CancerType'])\n",
    "\n",
    "                # get probabilities\n",
    "                test_probabilities = clf.predict_proba(test_set.drop(drop_cols, axis = 1))\n",
    "\n",
    "                # test decision tree\n",
    "                test_predictions = clf.predict(test_set.drop(drop_cols, axis = 1))\n",
    "\n",
    "                # calculate weighted accuracy\n",
    "                balanced_acc = balanced_accuracy_score(test_set['CancerType'], test_predictions)\n",
    "\n",
    "                # calculate AUC\n",
    "                auc = roc_auc_score(test_set['CancerType'] == 'Other', test_probabilities[:, 1])\n",
    "\n",
    "                # append accuracy, auc to results df\n",
    "                performance_metrics.loc[len(performance_metrics)] = [balanced_acc, auc, trees, depth, features]\n",
    "\n",
    "    performance_metrics.to_excel('sensitivity_analysis_control_all.xlsx', index=False)\n",
    "\n",
    "    print(i)\n",
    "\n"
   ]
  },
  {
   "cell_type": "code",
   "execution_count": null,
   "metadata": {},
   "outputs": [],
   "source": [
    "clf.classes_"
   ]
  },
  {
   "cell_type": "code",
   "execution_count": 11,
   "metadata": {},
   "outputs": [],
   "source": [
    "sensitivity_analysis_df = pd.read_excel(\"sensitivity_analysis_control_all.xlsx\")\n",
    "sensitivity_analysis_df[\"max_features\"] = sensitivity_analysis_df['max_features'].fillna('None')\n",
    "sensitivity_analysis_df[\"max_depth\"] = sensitivity_analysis_df['max_depth'].fillna('None')\n",
    "result = sensitivity_analysis_df.groupby(['n_estimators', 'max_depth', 'max_features']).mean()"
   ]
  },
  {
   "cell_type": "code",
   "execution_count": null,
   "metadata": {},
   "outputs": [],
   "source": [
    "boot_strap_number = np.repeat(np.arange(0, 1000), 24)\n",
    "boot_strap_number = pd.Series(boot_strap_number)\n",
    "result = pd.concat([boot_strap_number, sensitivity_analysis_df], axis=1)\n",
    "result[\"max_features\"] = result['max_features'].fillna('None')\n",
    "\n",
    "result_1 = result.groupby(['n_estimators', 'max_depth', 'max_features']).mean()"
   ]
  },
  {
   "cell_type": "markdown",
   "metadata": {},
   "source": [
    "We use sort_values() to sort the DataFrame by 'Value' in descending order.\n",
    "We then use groupby('Group') to group the sorted DataFrame by the 'Group' column.\n",
    "Finally, we use .head(1) to select the first row within each group, which corresponds to the row with the highest 'Value'."
   ]
  },
  {
   "cell_type": "code",
   "execution_count": null,
   "metadata": {},
   "outputs": [],
   "source": [
    "hyper_parameter_combinations = result.sort_values(by='Weighted Accuracy', ascending=False).groupby(0).head(1)\n",
    "\n",
    "hyper_parameter_combinations"
   ]
  },
  {
   "cell_type": "code",
   "execution_count": null,
   "metadata": {},
   "outputs": [],
   "source": [
    "sns.boxplot(data=result, x='n_estimators', y='Weighted Accuracy')"
   ]
  },
  {
   "cell_type": "code",
   "execution_count": null,
   "metadata": {},
   "outputs": [],
   "source": [
    "sns.boxplot(data=result, x='max_depth', y='Weighted Accuracy')\n"
   ]
  },
  {
   "cell_type": "code",
   "execution_count": null,
   "metadata": {},
   "outputs": [],
   "source": [
    "sns.boxplot(data=result, x='max_features', y='Weighted Accuracy')\n"
   ]
  },
  {
   "cell_type": "code",
   "execution_count": null,
   "metadata": {},
   "outputs": [],
   "source": [
    "hyper_parameter_combinations['n_estimators'].value_counts()"
   ]
  },
  {
   "cell_type": "code",
   "execution_count": null,
   "metadata": {},
   "outputs": [],
   "source": [
    "sensitivity_analysis_df = pd.read_excel(\"sensitivity_analysis_control_all.xlsx\")\n"
   ]
  }
 ],
 "metadata": {
  "kernelspec": {
   "display_name": "Python 3",
   "language": "python",
   "name": "python3"
  },
  "language_info": {
   "codemirror_mode": {
    "name": "ipython",
    "version": 3
   },
   "file_extension": ".py",
   "mimetype": "text/x-python",
   "name": "python",
   "nbconvert_exporter": "python",
   "pygments_lexer": "ipython3",
   "version": "3.10.11"
  }
 },
 "nbformat": 4,
 "nbformat_minor": 2
}
