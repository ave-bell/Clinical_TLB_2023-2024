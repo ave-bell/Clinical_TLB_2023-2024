{
 "cells": [
  {
   "cell_type": "code",
   "execution_count": 1,
   "metadata": {},
   "outputs": [],
   "source": [
    "import pandas as pd\n",
    "import numpy as np\n",
    "\n",
    "import seaborn as sns\n",
    "import matplotlib.pyplot as plt\n",
    "\n",
    "import thermogram_utilities\n",
    "\n",
    "import warnings\n",
    "warnings.filterwarnings(\"ignore\")\n",
    "\n",
    "mixed = pd.read_excel(\"mixed_thermograms.xlsx\")"
   ]
  },
  {
   "cell_type": "code",
   "execution_count": 2,
   "metadata": {},
   "outputs": [
    {
     "data": {
      "text/plain": [
       "DiseaseGroup             code\n",
       "ALS                      ALS      12\n",
       "Anti-CCP                 CCP      10\n",
       "CIN                      CIN      67\n",
       "Centromere               CEN      10\n",
       "Chromatin / Ribo-P / Sm  CHR      10\n",
       "Diabetes                 DBT      33\n",
       "Early RA                 ERA      10\n",
       "Endometrial              END       8\n",
       "Gammopathy               GAM       4\n",
       "Heart                    HRT      18\n",
       "Jo-1 (polymyositis)      JOF      25\n",
       "Lung                     LUN      50\n",
       "Lupus                    SLE     299\n",
       "                         LUF      50\n",
       "                         LUP       2\n",
       "Lyme                     LYM      10\n",
       "Melanoma                 MEL       7\n",
       "Multiple sclerosis       MSC      20\n",
       "Myocardial infarction    MCI      20\n",
       "Normal                   NML     122\n",
       "Ovarian                  OVA      12\n",
       "Pelvic mass              PEL      16\n",
       "Phenytoin                PHN       6\n",
       "Rheumatoid arthritis     RAF      18\n",
       "                         RAA      11\n",
       "Ro52                     ROF      10\n",
       "Scl-70                   S70       9\n",
       "Scleroderma              SCL      50\n",
       "Uterine                  UTR       2\n",
       "Name: count, dtype: int64"
      ]
     },
     "execution_count": 2,
     "metadata": {},
     "output_type": "execute_result"
    }
   ],
   "source": [
    "mixed.groupby([\"DiseaseGroup\"])[\"code\"].value_counts()"
   ]
  },
  {
   "cell_type": "code",
   "execution_count": 3,
   "metadata": {},
   "outputs": [],
   "source": [
    "mixed_long = pd.melt(mixed, id_vars=[\"DiseaseGroup\", \"sampleID\", \"code\"], var_name=\"temp\", value_name=\"dsp\" )\n",
    "\n",
    "mixed_long[\"temp\"] = mixed_long[\"temp\"].str.replace(\"T\", \"\")\n",
    "mixed_long[\"temp\"] = mixed_long[\"temp\"].astype(float)"
   ]
  },
  {
   "cell_type": "code",
   "execution_count": 4,
   "metadata": {},
   "outputs": [
    {
     "ename": "KeyboardInterrupt",
     "evalue": "",
     "output_type": "error",
     "traceback": [
      "\u001b[1;31m---------------------------------------------------------------------------\u001b[0m",
      "\u001b[1;31mKeyboardInterrupt\u001b[0m                         Traceback (most recent call last)",
      "\u001b[1;32m~\\AppData\\Local\\Temp\\ipykernel_22904\\997906611.py\u001b[0m in \u001b[0;36m?\u001b[1;34m()\u001b[0m\n\u001b[1;32m----> 1\u001b[1;33m \u001b[0mmedian_df\u001b[0m \u001b[1;33m=\u001b[0m \u001b[0mthermogram_utilities\u001b[0m\u001b[1;33m.\u001b[0m\u001b[0mmedian_curve\u001b[0m\u001b[1;33m(\u001b[0m\u001b[0mmixed_long\u001b[0m\u001b[1;33m,\u001b[0m \u001b[1;34m\"code\"\u001b[0m\u001b[1;33m,\u001b[0m \u001b[1;34m\"temp\"\u001b[0m\u001b[1;33m,\u001b[0m \u001b[1;34m\"dsp\"\u001b[0m\u001b[1;33m)\u001b[0m\u001b[1;33m\u001b[0m\u001b[1;33m\u001b[0m\u001b[0m\n\u001b[0m",
      "\u001b[1;32mc:\\Users\\avery\\OneDrive\\Documents\\GitHub\\Clinical_TLB_2023-2024\\Mixed_Analysis\\thermogram_utilities.py\u001b[0m in \u001b[0;36m?\u001b[1;34m(self, filter_col, temp_col, median_column)\u001b[0m\n\u001b[0;32m     59\u001b[0m         \u001b[1;31m# loop through each temperature\u001b[0m\u001b[1;33m\u001b[0m\u001b[1;33m\u001b[0m\u001b[0m\n\u001b[0;32m     60\u001b[0m         \u001b[1;32mfor\u001b[0m \u001b[0mt\u001b[0m \u001b[1;32min\u001b[0m \u001b[0mtemp_vals\u001b[0m\u001b[1;33m:\u001b[0m\u001b[1;33m\u001b[0m\u001b[1;33m\u001b[0m\u001b[0m\n\u001b[0;32m     61\u001b[0m \u001b[1;33m\u001b[0m\u001b[0m\n\u001b[0;32m     62\u001b[0m             \u001b[1;31m# filter to keep only current temperature\u001b[0m\u001b[1;33m\u001b[0m\u001b[1;33m\u001b[0m\u001b[0m\n\u001b[1;32m---> 63\u001b[1;33m             \u001b[0mcurrent_temp_df\u001b[0m \u001b[1;33m=\u001b[0m \u001b[0mcurrent_df\u001b[0m\u001b[1;33m[\u001b[0m\u001b[0mcurrent_df\u001b[0m\u001b[1;33m[\u001b[0m\u001b[0mtemp_col\u001b[0m\u001b[1;33m]\u001b[0m \u001b[1;33m==\u001b[0m \u001b[0mt\u001b[0m\u001b[1;33m]\u001b[0m\u001b[1;33m\u001b[0m\u001b[1;33m\u001b[0m\u001b[0m\n\u001b[0m\u001b[0;32m     64\u001b[0m \u001b[1;33m\u001b[0m\u001b[0m\n\u001b[0;32m     65\u001b[0m             \u001b[1;31m#print(current_temp_df[temp_col].unique)\u001b[0m\u001b[1;33m\u001b[0m\u001b[1;33m\u001b[0m\u001b[0m\n\u001b[0;32m     66\u001b[0m \u001b[1;33m\u001b[0m\u001b[0m\n",
      "\u001b[1;32mc:\\Users\\avery\\AppData\\Local\\Programs\\Python\\Python310\\lib\\site-packages\\pandas\\core\\frame.py\u001b[0m in \u001b[0;36m?\u001b[1;34m(self, key)\u001b[0m\n\u001b[0;32m   3883\u001b[0m             \u001b[1;32mreturn\u001b[0m \u001b[0mself\u001b[0m\u001b[1;33m.\u001b[0m\u001b[0mwhere\u001b[0m\u001b[1;33m(\u001b[0m\u001b[0mkey\u001b[0m\u001b[1;33m)\u001b[0m\u001b[1;33m\u001b[0m\u001b[1;33m\u001b[0m\u001b[0m\n\u001b[0;32m   3884\u001b[0m \u001b[1;33m\u001b[0m\u001b[0m\n\u001b[0;32m   3885\u001b[0m         \u001b[1;31m# Do we have a (boolean) 1d indexer?\u001b[0m\u001b[1;33m\u001b[0m\u001b[1;33m\u001b[0m\u001b[0m\n\u001b[0;32m   3886\u001b[0m         \u001b[1;32mif\u001b[0m \u001b[0mcom\u001b[0m\u001b[1;33m.\u001b[0m\u001b[0mis_bool_indexer\u001b[0m\u001b[1;33m(\u001b[0m\u001b[0mkey\u001b[0m\u001b[1;33m)\u001b[0m\u001b[1;33m:\u001b[0m\u001b[1;33m\u001b[0m\u001b[1;33m\u001b[0m\u001b[0m\n\u001b[1;32m-> 3887\u001b[1;33m             \u001b[1;32mreturn\u001b[0m \u001b[0mself\u001b[0m\u001b[1;33m.\u001b[0m\u001b[0m_getitem_bool_array\u001b[0m\u001b[1;33m(\u001b[0m\u001b[0mkey\u001b[0m\u001b[1;33m)\u001b[0m\u001b[1;33m\u001b[0m\u001b[1;33m\u001b[0m\u001b[0m\n\u001b[0m\u001b[0;32m   3888\u001b[0m \u001b[1;33m\u001b[0m\u001b[0m\n\u001b[0;32m   3889\u001b[0m         \u001b[1;31m# We are left with two options: a single key, and a collection of keys,\u001b[0m\u001b[1;33m\u001b[0m\u001b[1;33m\u001b[0m\u001b[0m\n\u001b[0;32m   3890\u001b[0m         \u001b[1;31m# We interpret tuples as collections only for non-MultiIndex\u001b[0m\u001b[1;33m\u001b[0m\u001b[1;33m\u001b[0m\u001b[0m\n",
      "\u001b[1;32mc:\\Users\\avery\\AppData\\Local\\Programs\\Python\\Python310\\lib\\site-packages\\pandas\\core\\frame.py\u001b[0m in \u001b[0;36m?\u001b[1;34m(self, key)\u001b[0m\n\u001b[0;32m   3944\u001b[0m \u001b[1;33m\u001b[0m\u001b[0m\n\u001b[0;32m   3945\u001b[0m         \u001b[1;32mif\u001b[0m \u001b[0mkey\u001b[0m\u001b[1;33m.\u001b[0m\u001b[0mall\u001b[0m\u001b[1;33m(\u001b[0m\u001b[1;33m)\u001b[0m\u001b[1;33m:\u001b[0m\u001b[1;33m\u001b[0m\u001b[1;33m\u001b[0m\u001b[0m\n\u001b[0;32m   3946\u001b[0m             \u001b[1;32mreturn\u001b[0m \u001b[0mself\u001b[0m\u001b[1;33m.\u001b[0m\u001b[0mcopy\u001b[0m\u001b[1;33m(\u001b[0m\u001b[0mdeep\u001b[0m\u001b[1;33m=\u001b[0m\u001b[1;32mNone\u001b[0m\u001b[1;33m)\u001b[0m\u001b[1;33m\u001b[0m\u001b[1;33m\u001b[0m\u001b[0m\n\u001b[0;32m   3947\u001b[0m \u001b[1;33m\u001b[0m\u001b[0m\n\u001b[1;32m-> 3948\u001b[1;33m         \u001b[0mindexer\u001b[0m \u001b[1;33m=\u001b[0m \u001b[0mkey\u001b[0m\u001b[1;33m.\u001b[0m\u001b[0mnonzero\u001b[0m\u001b[1;33m(\u001b[0m\u001b[1;33m)\u001b[0m\u001b[1;33m[\u001b[0m\u001b[1;36m0\u001b[0m\u001b[1;33m]\u001b[0m\u001b[1;33m\u001b[0m\u001b[1;33m\u001b[0m\u001b[0m\n\u001b[0m\u001b[0;32m   3949\u001b[0m         \u001b[1;32mreturn\u001b[0m \u001b[0mself\u001b[0m\u001b[1;33m.\u001b[0m\u001b[0m_take_with_is_copy\u001b[0m\u001b[1;33m(\u001b[0m\u001b[0mindexer\u001b[0m\u001b[1;33m,\u001b[0m \u001b[0maxis\u001b[0m\u001b[1;33m=\u001b[0m\u001b[1;36m0\u001b[0m\u001b[1;33m)\u001b[0m\u001b[1;33m\u001b[0m\u001b[1;33m\u001b[0m\u001b[0m\n",
      "\u001b[1;31mKeyboardInterrupt\u001b[0m: "
     ]
    }
   ],
   "source": [
    "median_df = thermogram_utilities.median_curve(mixed_long, \"code\", \"temp\", \"dsp\")"
   ]
  },
  {
   "cell_type": "code",
   "execution_count": null,
   "metadata": {},
   "outputs": [],
   "source": [
    "g = sns.FacetGrid(mixed_long, col=\"DiseaseGroup\", col_wrap= 1, hue=\"sampleID\", palette = 'colorblind')\n",
    "g.map_dataframe(sns.lineplot, x=\"temp\", y=\"dsp\")\n",
    "g.set_axis_labels(\"Temperature (C)\", \"Specific Excess Heat Capacity\")\n",
    "g.set_titles(col_template=\"{col_name}\")\n",
    "g.show()"
   ]
  },
  {
   "cell_type": "code",
   "execution_count": null,
   "metadata": {},
   "outputs": [],
   "source": [
    "'''g = sns.FacetGrid(median_df, col=\"type\", col_wrap= 3, palette = 'colorblind')\n",
    "\n",
    "\n",
    "g.set_axis_labels(\"Temperature\", \"Median\")\n",
    "g.set_titles(col_template=\"{col_name}\")\n",
    "\n",
    "# Define a custom function to add the ribbon to each panel\n",
    "def add_ribbon(**kwargs):\n",
    "    ax = plt.gca()\n",
    "    panel_data = kwargs.pop(\"data\")  # Get the data specific to the current panel\n",
    "    \n",
    "    sns.lineplot(data=panel_data, x='temperature', y='median', ax=ax, palette='colorblind')\n",
    "    ax.fill_between(panel_data['temperature'], panel_data['lower_q'], panel_data['upper_q'], alpha=0.3, color='gray')\n",
    "\n",
    "# Use FacetGrid.map_dataframe to apply the custom function to each panel\n",
    "g.map_dataframe(add_ribbon)\n",
    "\n",
    "# Show the plot\n",
    "plt.show()'''"
   ]
  },
  {
   "cell_type": "code",
   "execution_count": null,
   "metadata": {},
   "outputs": [],
   "source": [
    "# Assuming 'median_df' is your DataFrame\n",
    "# Ensure that the 'temperature' column is numeric and that 'lower_q' and 'upper_q' columns are present\n",
    "\n",
    "'''# Set the style\n",
    "sns.set(style=\"whitegrid\")\n",
    "\n",
    "# Create a figure and axis\n",
    "fig, ax = plt.subplots(figsize=(10, 6))\n",
    "\n",
    "# Define the groups based on 'type'\n",
    "groups = median_df['type'].unique()\n",
    "\n",
    "# Plot each line and add ribbon\n",
    "for group in groups:\n",
    "    group_data = median_df[median_df['type'] == group].sort_values(by='temperature')\n",
    "    sns.lineplot(data=group_data, x='temperature', y='median', label=group, legend=False)\n",
    "    ax.fill_between(group_data['temperature'], group_data['lower_q'], group_data['upper_q'], alpha=0.3)\n",
    "\n",
    "# Set labels and title\n",
    "ax.set(xlabel='Temperature', ylabel='Median', title='Median Temperature by Type')\n",
    "\n",
    "# Show the plot without legend\n",
    "plt.show()'''\n"
   ]
  },
  {
   "cell_type": "code",
   "execution_count": null,
   "metadata": {},
   "outputs": [],
   "source": [
    "'''mixed_multiple = mixed_long[(mixed_long[\"DiseaseGroup\"] == \"Lupus\") | (mixed_long[\"DiseaseGroup\"] == \"Rheumatoid arthritis\")]'''\n"
   ]
  },
  {
   "cell_type": "code",
   "execution_count": null,
   "metadata": {},
   "outputs": [],
   "source": [
    "'''graph_df = mixed_multiple[mixed_multiple[\"DiseaseGroup\"] == \"Lupus\"]\n",
    "\n",
    "g = sns.FacetGrid(graph_df, col=\"code\", col_wrap= 3, hue=\"sampleID\", palette = 'colorblind')\n",
    "g.map_dataframe(sns.lineplot, x=\"temp\", y=\"dsp\")\n",
    "g.set_axis_labels(\"Temperature (C)\", \"Specific Excess Heat Capacity\")\n",
    "g.set_titles(col_template=\"{col_name}\")'''"
   ]
  },
  {
   "cell_type": "code",
   "execution_count": null,
   "metadata": {},
   "outputs": [],
   "source": [
    "'''graph_df = mixed_multiple[mixed_multiple[\"DiseaseGroup\"] == \"Rheumatoid arthritis\"]\n",
    "\n",
    "g = sns.FacetGrid(graph_df, col=\"code\", col_wrap= 3, hue=\"sampleID\", palette = 'colorblind')\n",
    "g.map_dataframe(sns.lineplot, x=\"temp\", y=\"dsp\")\n",
    "g.set_axis_labels(\"Temperature (C)\", \"Specific Excess Heat Capacity\")\n",
    "g.set_titles(col_template=\"{col_name}\")'''"
   ]
  }
 ],
 "metadata": {
  "celltoolbar": "Tags",
  "kernelspec": {
   "display_name": "Python 3 (ipykernel)",
   "language": "python",
   "name": "python3"
  },
  "language_info": {
   "codemirror_mode": {
    "name": "ipython",
    "version": 3
   },
   "file_extension": ".py",
   "mimetype": "text/x-python",
   "name": "python",
   "nbconvert_exporter": "python",
   "pygments_lexer": "ipython3",
   "version": "3.10.11"
  }
 },
 "nbformat": 4,
 "nbformat_minor": 2
}
