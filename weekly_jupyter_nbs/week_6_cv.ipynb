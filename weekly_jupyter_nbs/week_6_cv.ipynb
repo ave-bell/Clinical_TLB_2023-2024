{
 "cells": [
  {
   "cell_type": "code",
   "execution_count": 1,
   "metadata": {},
   "outputs": [],
   "source": [
    "#import libraries\n",
    "import pandas as pd\n",
    "from sklearn import tree # package to make decision tree/forest\n",
    "from sklearn.model_selection import train_test_split\n",
    "from sklearn.ensemble import RandomForestClassifier\n",
    "from sklearn.metrics import accuracy_score\n",
    "\n",
    "from sklearn.model_selection import StratifiedKFold\n",
    "\n",
    "\n",
    "#from sklearn.tree import export_graphviz\n",
    "import numpy as np\n",
    "#import graphviz\n",
    "\n",
    "import warnings\n",
    "# Suppress all warnings\n",
    "warnings.filterwarnings(\"ignore\")\n",
    "\n",
    "# read in data file\n",
    "df = pd.read_excel(\"/Users/avery/OneDrive/Documents/GitHub/Clinical_TLB_2023-2024/lung_cancer_tlb.xlsx\")"
   ]
  },
  {
   "cell_type": "code",
   "execution_count": 2,
   "metadata": {},
   "outputs": [],
   "source": [
    "# SET UP\n",
    "# keep only control and adenocarcinoma\n",
    "df['CancerType'] = np.where(df['CancerType'].isna(), 'Control', df['CancerType'])\n",
    "\n",
    "df_tree = df[(df['CancerType'] == 'Control') | (df['CancerType'] == 'Adenocarcinoma')]"
   ]
  },
  {
   "cell_type": "code",
   "execution_count": 3,
   "metadata": {},
   "outputs": [],
   "source": [
    "# split into seperate dfs for features and labels\n",
    "features = df_tree.drop(['CancerType', 'sample_id'], axis=1)\n",
    "labels = df_tree[['pub_id', 'CancerType']]"
   ]
  },
  {
   "cell_type": "markdown",
   "metadata": {},
   "source": [
    "Here is a simple train/test split"
   ]
  },
  {
   "cell_type": "code",
   "execution_count": 4,
   "metadata": {},
   "outputs": [
    {
     "name": "stdout",
     "output_type": "stream",
     "text": [
      "Accuracy: 0.68\n"
     ]
    }
   ],
   "source": [
    "# split into training and testing sets (stratified split)\n",
    "train_set_features, test_set_features, train_set_labels, test_set_labels = train_test_split(features, labels, test_size=0.2, stratify=labels['CancerType'])\n",
    "\n",
    "# using training to fit tree / forest\n",
    "clf = tree.DecisionTreeClassifier()\n",
    "clf = clf.fit( train_set_features.drop('pub_id', axis=1), train_set_labels.drop('pub_id', axis=1) )\n",
    "\n",
    "# using tree / forest to predict testing set\n",
    "test_set_predictions = clf.predict(test_set_features.drop('pub_id', axis=1))\n",
    "accuracy = accuracy_score(test_set_predictions, test_set_labels['CancerType'])\n",
    "print(f'Accuracy: {accuracy:.2f}')"
   ]
  },
  {
   "cell_type": "markdown",
   "metadata": {},
   "source": [
    "Here is a stratified k fold approach"
   ]
  },
  {
   "cell_type": "code",
   "execution_count": 4,
   "metadata": {},
   "outputs": [
    {
     "name": "stdout",
     "output_type": "stream",
     "text": [
      "Fold 1 - Train Indices: [  1   2   4   5   7   8   9  10  11  13  15  17  18  19  21  23  24  25\n",
      "  26  27  28  29  30  31  32  34  35  36  37  38  39  40  41  42  44  46\n",
      "  47  48  49  50  51  52  53  55  56  57  58  59  60  62  64  65  66  67\n",
      "  68  69  70  71  72  73  74  75  77  78  79  80  81  82  84  86  88  89\n",
      "  90  92  93  94  95  96  97  99 100 103 105 106 107 108 109 110 112 113\n",
      " 114 116 117 118 119 120 121 122]\n",
      "Fold 1 - Test Indices: [  0   3   6  12  14  16  20  22  33  43  45  54  61  63  76  83  85  87\n",
      "  91  98 101 102 104 111 115]\n",
      "\n",
      "\n",
      "Fold 2 - Train Indices: [  0   1   3   5   6   7   8   9  11  12  13  14  15  16  17  18  19  20\n",
      "  21  22  24  25  26  27  28  30  31  32  33  34  35  36  37  38  40  42\n",
      "  43  44  45  47  48  49  50  53  54  56  57  58  59  60  61  62  63  64\n",
      "  65  66  67  70  72  74  75  76  77  78  79  80  81  83  84  85  86  87\n",
      "  88  89  90  91  92  96  97  98  99 100 101 102 103 104 106 107 108 109\n",
      " 111 114 115 116 117 118 120 122]\n",
      "Fold 2 - Test Indices: [  2   4  10  23  29  39  41  46  51  52  55  68  69  71  73  82  93  94\n",
      "  95 105 110 112 113 119 121]\n",
      "\n",
      "\n",
      "Fold 3 - Train Indices: [  0   1   2   3   4   5   6   7   9  10  12  13  14  16  17  18  20  21\n",
      "  22  23  24  25  28  29  31  32  33  34  37  38  39  40  41  43  44  45\n",
      "  46  47  48  49  50  51  52  53  54  55  57  59  61  62  63  65  66  67\n",
      "  68  69  71  72  73  74  75  76  78  79  80  82  83  85  86  87  88  89\n",
      "  91  92  93  94  95  97  98  99 100 101 102 103 104 105 107 110 111 112\n",
      " 113 114 115 116 118 119 120 121]\n",
      "Fold 3 - Test Indices: [  8  11  15  19  26  27  30  35  36  42  56  58  60  64  70  77  81  84\n",
      "  90  96 106 108 109 117 122]\n",
      "\n",
      "\n",
      "Fold 4 - Train Indices: [  0   1   2   3   4   5   6   8   9  10  11  12  14  15  16  19  20  22\n",
      "  23  26  27  28  29  30  32  33  35  36  38  39  40  41  42  43  44  45\n",
      "  46  47  48  50  51  52  54  55  56  57  58  60  61  63  64  65  67  68\n",
      "  69  70  71  73  74  75  76  77  78  79  81  82  83  84  85  86  87  90\n",
      "  91  93  94  95  96  98 100 101 102 103 104 105 106 108 109 110 111 112\n",
      " 113 114 115 117 118 119 120 121 122]\n",
      "Fold 4 - Test Indices: [  7  13  17  18  21  24  25  31  34  37  49  53  59  62  66  72  80  88\n",
      "  89  92  97  99 107 116]\n",
      "\n",
      "\n",
      "Fold 5 - Train Indices: [  0   2   3   4   6   7   8  10  11  12  13  14  15  16  17  18  19  20\n",
      "  21  22  23  24  25  26  27  29  30  31  33  34  35  36  37  39  41  42\n",
      "  43  45  46  49  51  52  53  54  55  56  58  59  60  61  62  63  64  66\n",
      "  68  69  70  71  72  73  76  77  80  81  82  83  84  85  87  88  89  90\n",
      "  91  92  93  94  95  96  97  98  99 101 102 104 105 106 107 108 109 110\n",
      " 111 112 113 115 116 117 119 121 122]\n",
      "Fold 5 - Test Indices: [  1   5   9  28  32  38  40  44  47  48  50  57  65  67  74  75  78  79\n",
      "  86 100 103 114 118 120]\n",
      "\n",
      "\n"
     ]
    }
   ],
   "source": [
    "# initialize object\n",
    "stratified_kfold = StratifiedKFold(n_splits=5, shuffle=True, random_state=42)\n",
    "\n",
    "# Iterate through the folds and access the indices\n",
    "for fold, (train_indices, test_indices) in enumerate(stratified_kfold.split(features.drop('pub_id', axis=1), labels.drop('pub_id', axis=1))):\n",
    "    # Inside this loop, train_indices and test_indices contain the indices for the current fold\n",
    "    print(f\"Fold {fold + 1} - Train Indices:\", train_indices)\n",
    "    print(f\"Fold {fold + 1} - Test Indices:\", test_indices)\n",
    "    print(\"\\n\")"
   ]
  },
  {
   "cell_type": "code",
   "execution_count": 5,
   "metadata": {},
   "outputs": [
    {
     "data": {
      "text/plain": [
       "array([  1,   2,   4,   5,   7,   8,   9,  10,  11,  13,  15,  17,  18,\n",
       "        19,  21,  23,  24,  25,  26,  27,  28,  29,  30,  31,  32,  34,\n",
       "        35,  36,  37,  38,  39,  40,  41,  42,  44,  46,  47,  48,  49,\n",
       "        50,  51,  52,  53,  55,  56,  57,  58,  59,  60,  62,  64,  65,\n",
       "        66,  67,  68,  69,  70,  71,  72,  73,  74,  75,  77,  78,  79,\n",
       "        80,  81,  82,  84,  86,  88,  89,  90,  92,  93,  94,  95,  96,\n",
       "        97,  99, 100, 103, 105, 106, 107, 108, 109, 110, 112, 113, 114,\n",
       "       116, 117, 118, 119, 120, 121, 122])"
      ]
     },
     "execution_count": 5,
     "metadata": {},
     "output_type": "execute_result"
    }
   ],
   "source": [
    "# create an empty pandas df to store indices from StratifiedKFold object\n",
    "cv_indices_df = pd.DataFrame(columns=['Fold', 'Train', 'Test'])\n",
    "\n",
    "# loop though each fold in SKF object\n",
    "for fold, (train_indices, test_indices) in enumerate(stratified_kfold.split(features.drop('pub_id', axis=1), labels.drop('pub_id', axis=1))):\n",
    "    cv_indices_df.loc[len(cv_indices_df.index)] = (fold, train_indices, test_indices)\n",
    "    \n",
    "\n",
    "# can filter df like this to get train and test set\n",
    "#features.iloc[cv_indices_df.iloc[1, 1]]\n",
    "\n",
    "cv_indices_df.iloc[0,1]\n"
   ]
  },
  {
   "cell_type": "code",
   "execution_count": 18,
   "metadata": {},
   "outputs": [
    {
     "data": {
      "text/plain": [
       "\"test_set_features = features.iloc[test_set_indicies]\\ntest_set_labels = labels.iloc[test_set_indicies]\\n\\n# train decision tree\\nclf = tree.DecisionTreeClassifier()\\nclf = clf.fit( train_set_features.drop('pub_id', axis=1), train_set_labels.drop('pub_id', axis=1) )\\n\\n# predict decision tree\\ntest_set_predictions = clf.predict(test_set_features.drop('pub_id', axis=1))\\n\\n# calculate Accuracy, AUC\\naccuracy = accuracy_score(test_set_predictions, test_set_labels['CancerType'])\\n\\nprint(accuracy)\""
      ]
     },
     "execution_count": 18,
     "metadata": {},
     "output_type": "execute_result"
    }
   ],
   "source": [
    "# split into seperate dfs for features and labels\n",
    "'''features = df_tree.drop(['CancerType', 'sample_id'], axis=1)\n",
    "labels = df_tree[['pub_id', 'CancerType']]\n",
    "\n",
    "folds = 5\n",
    "fold = 0\n",
    "# loop through number of folds\n",
    "#for fold in range(folds):\n",
    "\n",
    "    # get train set indices\n",
    "train_set_indicies = cv_indices_df.iloc[fold, 1]\n",
    "\n",
    "# get test set indices\n",
    "test_set_indicies = cv_indices_df.iloc[fold, 2]\n",
    "\n",
    "# get train and test dfs\n",
    "train_set_features = features.iloc[train_set_indicies]\n",
    "train_set_labels = labels.iloc[train_indices]\n",
    "\n",
    "test_set_features = features.iloc[test_set_indicies]\n",
    "test_set_labels = labels.iloc[test_set_indicies]\n",
    "\n",
    "# train decision tree\n",
    "clf = tree.DecisionTreeClassifier()\n",
    "clf = clf.fit( train_set_features.drop('pub_id', axis=1), train_set_labels.drop('pub_id', axis=1) )\n",
    "\n",
    "# predict decision tree\n",
    "test_set_predictions = clf.predict(test_set_features.drop('pub_id', axis=1))\n",
    "\n",
    "# calculate Accuracy, AUC\n",
    "accuracy = accuracy_score(test_set_predictions, test_set_labels['CancerType'])\n",
    "\n",
    "print(accuracy)'''\n",
    "\n"
   ]
  },
  {
   "cell_type": "code",
   "execution_count": 14,
   "metadata": {},
   "outputs": [],
   "source": [
    "import pandas as pd\n",
    "from sklearn.model_selection import StratifiedKFold\n",
    "\n",
    "performance_metrics = pd.DataFrame(columns=['Train', 'Test', 'Test Accuracy'])\n",
    "\n",
    "# Define the number of splits and random seed for StratifiedKFold\n",
    "n_splits = 5\n",
    "random_seed = 42\n",
    "skf = StratifiedKFold(n_splits=n_splits, random_state=random_seed, shuffle=True)\n",
    "\n",
    "# Initialize lists to store train and test indices\n",
    "train_indices_list = []\n",
    "test_indices_list = []\n",
    "\n",
    "# loop through the splits and extract train and test indices\n",
    "for train_indices, test_indices in skf.split(df_tree, df_tree['CancerType']):\n",
    "\n",
    "    # append train and test indices to their lists\n",
    "    train_indices_list.append(train_indices)\n",
    "    test_indices_list.append(test_indices)\n",
    "\n",
    "# access the rows of the thermogram df using the indices\n",
    "for fold in range(n_splits):\n",
    "\n",
    "    # get training and testing dataframes\n",
    "    train_df = df_tree.iloc[train_indices_list[fold]].drop(['sample_id', 'pub_id'], axis = 1)\n",
    "    test_df = df_tree.iloc[test_indices_list[fold]].drop(['sample_id', 'pub_id'], axis = 1)\n",
    "    \n",
    "    # train the decision tree using the train set\n",
    "    clf = tree.DecisionTreeClassifier()\n",
    "    clf = clf.fit( train_df.drop('CancerType', axis = 1), train_df['CancerType'])\n",
    "\n",
    "    # predict the test set\n",
    "    test_predictions = clf.predict(test_df.drop('CancerType', axis = 1))\n",
    "\n",
    "    # compare predictions to labels\n",
    "    accuracy = accuracy_score(test_predictions, test_df['CancerType'])\n",
    "\n",
    "    # store train/test indices and accuracy\n",
    "    performance_metrics.loc[len(performance_metrics)] = [train_indices_list[fold], test_indices_list[fold], accuracy]"
   ]
  }
 ],
 "metadata": {
  "kernelspec": {
   "display_name": "Python 3",
   "language": "python",
   "name": "python3"
  },
  "language_info": {
   "codemirror_mode": {
    "name": "ipython",
    "version": 3
   },
   "file_extension": ".py",
   "mimetype": "text/x-python",
   "name": "python",
   "nbconvert_exporter": "python",
   "pygments_lexer": "ipython3",
   "version": "3.10.11"
  },
  "orig_nbformat": 4
 },
 "nbformat": 4,
 "nbformat_minor": 2
}
