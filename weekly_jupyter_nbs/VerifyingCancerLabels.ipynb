{
 "cells": [
  {
   "cell_type": "code",
   "execution_count": 1,
   "metadata": {},
   "outputs": [],
   "source": [
    "import pandas as pd\n",
    "\n"
   ]
  },
  {
   "cell_type": "code",
   "execution_count": 7,
   "metadata": {},
   "outputs": [
    {
     "data": {
      "text/plain": [
       "Diagnosis\n",
       "AC         70\n",
       "Control    51\n",
       "SCC        46\n",
       "SCLC       16\n",
       "NOS         8\n",
       "Large       6\n",
       "Mix         2\n",
       "Name: count, dtype: int64"
      ]
     },
     "execution_count": 7,
     "metadata": {},
     "output_type": "execute_result"
    }
   ],
   "source": [
    "prev = pd.read_excel(\"/Users/avery/OneDrive/Documents/GitHub/Clinical_TLB_2023-2024/lung_cancer_tlb.xlsx\")\n",
    "update = pd.read_excel('/Users/avery/OneDrive/Documents/publication_meta_data.xlsx')\n",
    "\n",
    "merged = pd.merge(prev, update, left_on='pub_id', right_on=\"Patient\")\n",
    "\n",
    "merged1 = merged[[\"CancerType\", \"Diagnosis\"]]\n",
    "\n",
    "merged1.value_counts(\"Diagnosis\")\n"
   ]
  }
 ],
 "metadata": {
  "kernelspec": {
   "display_name": "Python 3",
   "language": "python",
   "name": "python3"
  },
  "language_info": {
   "codemirror_mode": {
    "name": "ipython",
    "version": 3
   },
   "file_extension": ".py",
   "mimetype": "text/x-python",
   "name": "python",
   "nbconvert_exporter": "python",
   "pygments_lexer": "ipython3",
   "version": "3.10.11"
  }
 },
 "nbformat": 4,
 "nbformat_minor": 2
}
