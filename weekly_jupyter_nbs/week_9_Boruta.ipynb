{
 "cells": [
  {
   "cell_type": "code",
   "execution_count": 17,
   "metadata": {},
   "outputs": [],
   "source": [
    "import pandas as pd # standard\n",
    "import numpy as np # standard\n",
    "from sklearn.ensemble import RandomForestClassifier\n",
    "from boruta import BorutaPy\n",
    "\n",
    "\n",
    "\n",
    "\n",
    "import warnings\n",
    "warnings.filterwarnings(\"ignore\")"
   ]
  },
  {
   "cell_type": "code",
   "execution_count": 18,
   "metadata": {},
   "outputs": [],
   "source": [
    "df = pd.read_excel(\"/Users/avery/OneDrive/Documents/GitHub/Clinical_TLB_2023-2024/lung_cancer_tlb.xlsx\")\n",
    "df['CancerType'] = np.where(df['CancerType'].isna(), 'Control', df['CancerType'])"
   ]
  },
  {
   "cell_type": "code",
   "execution_count": 19,
   "metadata": {},
   "outputs": [],
   "source": [
    "\n",
    "# replace NA with control\n",
    "\n",
    "# get location of cut off values\n",
    "lower_column_index = df.columns.get_loc(\"T51\")\n",
    "upper_column_index = df.columns.get_loc(\"T83.1\")\n",
    "label_column_index = df.columns.get_loc(\"CancerType\")\n",
    "\n",
    "column_indices = np.arange(lower_column_index, upper_column_index)\n",
    "column_indices = np.append(column_indices, 0)\n",
    "column_indices = np.append(column_indices, 1)\n",
    "\n",
    "\n",
    "\n",
    "column_indices = np.append(column_indices, label_column_index)\n",
    "\n",
    "df = df.iloc[:, column_indices]\n",
    "\n",
    "# keep only Control and Adenocarcinoma for analysis\n",
    "df_tree = df[(df['CancerType'] == 'Control') | (df['CancerType'] == 'Squamous')]\n",
    "df_tree[\"CancerType\"] = np.where(df_tree[\"CancerType\"] == \"Squamous\", 1, 0)\n",
    "labels = df_tree[\"CancerType\"]\n",
    "df_tree = df_tree.reset_index(drop=True)\n",
    "df_tree = df_tree.drop([\"sample_id\", \"pub_id\", \"CancerType\"], axis = 1)\n",
    "\n"
   ]
  },
  {
   "cell_type": "code",
   "execution_count": 8,
   "metadata": {},
   "outputs": [
    {
     "data": {
      "text/plain": [
       "array([[0.02128, 0.02093, 0.02077, ..., 0.01629, 0.0144, 'Squamous'],\n",
       "       [0.02964, 0.02936, 0.02847, ..., 0.02167, 0.02125, 'Squamous'],\n",
       "       [0.01942, 0.01944, 0.01942, ..., 0.01254, 0.01154, 'Squamous'],\n",
       "       ...,\n",
       "       [0.01588, 0.01602, 0.01609, ..., 0.02038, 0.01967, 'Control'],\n",
       "       [0.01543, 0.01556, 0.01571, ..., 0.02111, 0.02022, 'Control'],\n",
       "       [0.01511, 0.01535, 0.01547, ..., 0.01919, 0.01807, 'Control']],\n",
       "      dtype=object)"
      ]
     },
     "execution_count": 8,
     "metadata": {},
     "output_type": "execute_result"
    }
   ],
   "source": []
  },
  {
   "cell_type": "code",
   "execution_count": 20,
   "metadata": {},
   "outputs": [],
   "source": [
    "features = df_tree.values\n",
    "labels = labels.ravel()"
   ]
  },
  {
   "cell_type": "code",
   "execution_count": 21,
   "metadata": {},
   "outputs": [
    {
     "ename": "AttributeError",
     "evalue": "module 'numpy' has no attribute 'int'.\n`np.int` was a deprecated alias for the builtin `int`. To avoid this error in existing code, use `int` by itself. Doing this will not modify any behavior and is safe. When replacing `np.int`, you may wish to use e.g. `np.int64` or `np.int32` to specify the precision. If you wish to review your current use, check the release note link for additional information.\nThe aliases was originally deprecated in NumPy 1.20; for more details and guidance see the original release note at:\n    https://numpy.org/devdocs/release/1.20.0-notes.html#deprecations",
     "output_type": "error",
     "traceback": [
      "\u001b[1;31m---------------------------------------------------------------------------\u001b[0m",
      "\u001b[1;31mAttributeError\u001b[0m                            Traceback (most recent call last)",
      "\u001b[1;32mc:\\Users\\avery\\OneDrive\\Documents\\GitHub\\Clinical_TLB_2023-2024\\weekly_jupyter_nbs\\week_9_Boruta.ipynb Cell 6\u001b[0m line \u001b[0;36m1\n\u001b[0;32m      <a href='vscode-notebook-cell:/c%3A/Users/avery/OneDrive/Documents/GitHub/Clinical_TLB_2023-2024/weekly_jupyter_nbs/week_9_Boruta.ipynb#W4sZmlsZQ%3D%3D?line=8'>9</a>\u001b[0m feat_selector \u001b[39m=\u001b[39m BorutaPy(rf, n_estimators\u001b[39m=\u001b[39m\u001b[39m'\u001b[39m\u001b[39mauto\u001b[39m\u001b[39m'\u001b[39m, verbose\u001b[39m=\u001b[39m\u001b[39m2\u001b[39m, random_state\u001b[39m=\u001b[39m\u001b[39m1\u001b[39m)\n\u001b[0;32m     <a href='vscode-notebook-cell:/c%3A/Users/avery/OneDrive/Documents/GitHub/Clinical_TLB_2023-2024/weekly_jupyter_nbs/week_9_Boruta.ipynb#W4sZmlsZQ%3D%3D?line=10'>11</a>\u001b[0m \u001b[39m# find all relevant features\u001b[39;00m\n\u001b[1;32m---> <a href='vscode-notebook-cell:/c%3A/Users/avery/OneDrive/Documents/GitHub/Clinical_TLB_2023-2024/weekly_jupyter_nbs/week_9_Boruta.ipynb#W4sZmlsZQ%3D%3D?line=11'>12</a>\u001b[0m feat_selector\u001b[39m.\u001b[39;49mfit(features, labels)\n\u001b[0;32m     <a href='vscode-notebook-cell:/c%3A/Users/avery/OneDrive/Documents/GitHub/Clinical_TLB_2023-2024/weekly_jupyter_nbs/week_9_Boruta.ipynb#W4sZmlsZQ%3D%3D?line=13'>14</a>\u001b[0m \u001b[39m# check selected features - first 5 features are selected\u001b[39;00m\n\u001b[0;32m     <a href='vscode-notebook-cell:/c%3A/Users/avery/OneDrive/Documents/GitHub/Clinical_TLB_2023-2024/weekly_jupyter_nbs/week_9_Boruta.ipynb#W4sZmlsZQ%3D%3D?line=14'>15</a>\u001b[0m feat_selector\u001b[39m.\u001b[39msupport_\n",
      "File \u001b[1;32mc:\\Users\\avery\\AppData\\Local\\Programs\\Python\\Python310\\lib\\site-packages\\boruta\\boruta_py.py:201\u001b[0m, in \u001b[0;36mBorutaPy.fit\u001b[1;34m(self, X, y)\u001b[0m\n\u001b[0;32m    188\u001b[0m \u001b[39mdef\u001b[39;00m \u001b[39mfit\u001b[39m(\u001b[39mself\u001b[39m, X, y):\n\u001b[0;32m    189\u001b[0m \u001b[39m    \u001b[39m\u001b[39m\"\"\"\u001b[39;00m\n\u001b[0;32m    190\u001b[0m \u001b[39m    Fits the Boruta feature selection with the provided estimator.\u001b[39;00m\n\u001b[0;32m    191\u001b[0m \n\u001b[1;32m   (...)\u001b[0m\n\u001b[0;32m    198\u001b[0m \u001b[39m        The target values.\u001b[39;00m\n\u001b[0;32m    199\u001b[0m \u001b[39m    \"\"\"\u001b[39;00m\n\u001b[1;32m--> 201\u001b[0m     \u001b[39mreturn\u001b[39;00m \u001b[39mself\u001b[39;49m\u001b[39m.\u001b[39;49m_fit(X, y)\n",
      "File \u001b[1;32mc:\\Users\\avery\\AppData\\Local\\Programs\\Python\\Python310\\lib\\site-packages\\boruta\\boruta_py.py:260\u001b[0m, in \u001b[0;36mBorutaPy._fit\u001b[1;34m(self, X, y)\u001b[0m\n\u001b[0;32m    255\u001b[0m _iter \u001b[39m=\u001b[39m \u001b[39m1\u001b[39m\n\u001b[0;32m    256\u001b[0m \u001b[39m# holds the decision about each feature:\u001b[39;00m\n\u001b[0;32m    257\u001b[0m \u001b[39m# 0  - default state = tentative in original code\u001b[39;00m\n\u001b[0;32m    258\u001b[0m \u001b[39m# 1  - accepted in original code\u001b[39;00m\n\u001b[0;32m    259\u001b[0m \u001b[39m# -1 - rejected in original code\u001b[39;00m\n\u001b[1;32m--> 260\u001b[0m dec_reg \u001b[39m=\u001b[39m np\u001b[39m.\u001b[39mzeros(n_feat, dtype\u001b[39m=\u001b[39mnp\u001b[39m.\u001b[39;49mint)\n\u001b[0;32m    261\u001b[0m \u001b[39m# counts how many times a given feature was more important than\u001b[39;00m\n\u001b[0;32m    262\u001b[0m \u001b[39m# the best of the shadow features\u001b[39;00m\n\u001b[0;32m    263\u001b[0m hit_reg \u001b[39m=\u001b[39m np\u001b[39m.\u001b[39mzeros(n_feat, dtype\u001b[39m=\u001b[39mnp\u001b[39m.\u001b[39mint)\n",
      "File \u001b[1;32mc:\\Users\\avery\\AppData\\Local\\Programs\\Python\\Python310\\lib\\site-packages\\numpy\\__init__.py:319\u001b[0m, in \u001b[0;36m__getattr__\u001b[1;34m(attr)\u001b[0m\n\u001b[0;32m    314\u001b[0m     warnings\u001b[39m.\u001b[39mwarn(\n\u001b[0;32m    315\u001b[0m         \u001b[39mf\u001b[39m\u001b[39m\"\u001b[39m\u001b[39mIn the future `np.\u001b[39m\u001b[39m{\u001b[39;00mattr\u001b[39m}\u001b[39;00m\u001b[39m` will be defined as the \u001b[39m\u001b[39m\"\u001b[39m\n\u001b[0;32m    316\u001b[0m         \u001b[39m\"\u001b[39m\u001b[39mcorresponding NumPy scalar.\u001b[39m\u001b[39m\"\u001b[39m, \u001b[39mFutureWarning\u001b[39;00m, stacklevel\u001b[39m=\u001b[39m\u001b[39m2\u001b[39m)\n\u001b[0;32m    318\u001b[0m \u001b[39mif\u001b[39;00m attr \u001b[39min\u001b[39;00m __former_attrs__:\n\u001b[1;32m--> 319\u001b[0m     \u001b[39mraise\u001b[39;00m \u001b[39mAttributeError\u001b[39;00m(__former_attrs__[attr])\n\u001b[0;32m    321\u001b[0m \u001b[39mif\u001b[39;00m attr \u001b[39m==\u001b[39m \u001b[39m'\u001b[39m\u001b[39mtesting\u001b[39m\u001b[39m'\u001b[39m:\n\u001b[0;32m    322\u001b[0m     \u001b[39mimport\u001b[39;00m \u001b[39mnumpy\u001b[39;00m\u001b[39m.\u001b[39;00m\u001b[39mtesting\u001b[39;00m \u001b[39mas\u001b[39;00m \u001b[39mtesting\u001b[39;00m\n",
      "\u001b[1;31mAttributeError\u001b[0m: module 'numpy' has no attribute 'int'.\n`np.int` was a deprecated alias for the builtin `int`. To avoid this error in existing code, use `int` by itself. Doing this will not modify any behavior and is safe. When replacing `np.int`, you may wish to use e.g. `np.int64` or `np.int32` to specify the precision. If you wish to review your current use, check the release note link for additional information.\nThe aliases was originally deprecated in NumPy 1.20; for more details and guidance see the original release note at:\n    https://numpy.org/devdocs/release/1.20.0-notes.html#deprecations"
     ]
    }
   ],
   "source": [
    "\n",
    "# load X and y\n",
    "# NOTE BorutaPy accepts numpy arrays only, hence the .values attribute\n",
    "\n",
    "# define random forest classifier, with utilising all cores and\n",
    "# sampling in proportion to y labels\n",
    "rf = RandomForestClassifier(n_jobs=-1, n_estimators=500, max_depth=48, max_features=\"sqrt\")\n",
    "\n",
    "# define Boruta feature selection method\n",
    "feat_selector = BorutaPy(rf, n_estimators='auto', verbose=2, random_state=1)\n",
    "\n",
    "# find all relevant features\n",
    "feat_selector.fit(features, labels)\n",
    "\n",
    "# check selected features - first 5 features are selected\n",
    "feat_selector.support_\n",
    "\n",
    "# check ranking of features\n",
    "feat_selector.ranking_\n",
    "\n",
    "# call transform() on X to filter it down to selected features\n",
    "X_filtered = feat_selector.transform(features)"
   ]
  }
 ],
 "metadata": {
  "kernelspec": {
   "display_name": "Python 3",
   "language": "python",
   "name": "python3"
  },
  "language_info": {
   "codemirror_mode": {
    "name": "ipython",
    "version": 3
   },
   "file_extension": ".py",
   "mimetype": "text/x-python",
   "name": "python",
   "nbconvert_exporter": "python",
   "pygments_lexer": "ipython3",
   "version": "3.10.11"
  }
 },
 "nbformat": 4,
 "nbformat_minor": 2
}
