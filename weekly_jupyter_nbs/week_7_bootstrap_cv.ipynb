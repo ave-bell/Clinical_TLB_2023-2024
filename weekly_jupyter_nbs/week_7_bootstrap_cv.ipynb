{
 "cells": [
  {
   "cell_type": "code",
   "execution_count": 5,
   "metadata": {},
   "outputs": [],
   "source": [
    "import pandas as pd # standard\n",
    "import numpy as np # standard\n",
    "from sklearn import tree # package to make decision tree\n",
    "from sklearn.metrics import accuracy_score # for accuracy calculation\n",
    "from sklearn.metrics import balanced_accuracy_score\n",
    "from sklearn.metrics import roc_auc_score\n",
    "\n",
    "import matplotlib.pyplot as plt\n"
   ]
  },
  {
   "cell_type": "code",
   "execution_count": 2,
   "metadata": {},
   "outputs": [],
   "source": [
    "df = pd.read_excel(\"/Users/avery/OneDrive/Documents/GitHub/Clinical_TLB_2023-2024/lung_cancer_tlb.xlsx\")\n",
    "\n",
    "# replace NA with control\n",
    "df['CancerType'] = np.where(df['CancerType'].isna(), 'Control', df['CancerType'])\n",
    "\n",
    "# keep only Control and Adenocarcinoma for analysis\n",
    "df_tree = df[(df['CancerType'] == 'Control') | (df['CancerType'] == 'Adenocarcinoma')]\n",
    "df_tree = df_tree.reset_index(drop=True)"
   ]
  },
  {
   "cell_type": "markdown",
   "metadata": {},
   "source": [
    "Bootstrap Cross-Validation"
   ]
  },
  {
   "cell_type": "code",
   "execution_count": 3,
   "metadata": {},
   "outputs": [],
   "source": [
    "# length of df\n",
    "num_rows = df_tree.shape[0]\n",
    "\n",
    "# number of bootstraps\n",
    "total_bootstraps = 500\n",
    "\n",
    "# create results df\n",
    "performance_metrics = pd.DataFrame(columns=['Weighted Accuracy', 'AUC'])\n",
    "\n",
    "# create array of all indices in full data set\n",
    "all_indices = np.arange(num_rows)\n",
    "\n",
    "# columns to drop\n",
    "drop_cols = ['sample_id', 'pub_id', 'CancerType']\n",
    "\n",
    "# loop to bootstrap and validate many times\n",
    "for i in range(total_bootstraps):\n",
    "\n",
    "    # sample indices with replacement of df\n",
    "    train_indices = np.random.choice(num_rows, num_rows, replace = True)\n",
    "\n",
    "    # get the train set using the indices\n",
    "    train_set = df_tree.iloc[train_indices, : ]\n",
    "\n",
    "    # get the indices not selected\n",
    "    test_indices = np.setdiff1d(all_indices, train_indices)\n",
    "\n",
    "    # use not selected indices as the train set\n",
    "    test_set = df_tree.iloc[test_indices, : ]\n",
    "    \n",
    "    # train decision tree\n",
    "    clf = tree.DecisionTreeClassifier()\n",
    "    clf = clf.fit( train_set.drop(drop_cols, axis = 1), train_set['CancerType'])\n",
    "\n",
    "    # get probabilities\n",
    "    test_probabilities = clf.predict_proba(test_set.drop(drop_cols, axis = 1))\n",
    "\n",
    "    # test decision tree\n",
    "    test_predictions = clf.predict(test_set.drop(drop_cols, axis = 1))\n",
    "\n",
    "    # calculate weighted accuracy\n",
    "    balanced_acc = balanced_accuracy_score(test_set['CancerType'], test_predictions)\n",
    "\n",
    "    # calculate AUC\n",
    "    auc = roc_auc_score(test_set['CancerType'] == 'Control', test_probabilities[:, 1])\n",
    "\n",
    "    # append accuracy, auc to results df\n",
    "    performance_metrics.loc[len(performance_metrics)] = [balanced_acc, auc]\n",
    "\n",
    "\n",
    "\n"
   ]
  },
  {
   "cell_type": "markdown",
   "metadata": {},
   "source": [
    "To Do: \n",
    "Store feature importance,\n",
    "Explore hyperparameters\n",
    "\n",
    "Figure out how to ensure auc calculation is correct, rn the balanced acc and and auc are the same."
   ]
  },
  {
   "cell_type": "code",
   "execution_count": 4,
   "metadata": {},
   "outputs": [
    {
     "data": {
      "text/plain": [
       "array([0., 0., 1., 0., 0., 0., 0., 0., 0., 1., 0., 0., 0., 0., 1., 1., 0.,\n",
       "       0., 0., 0., 0., 1., 1., 0., 0., 0., 0., 0., 1., 0., 0., 1., 1., 1.,\n",
       "       0., 0., 0., 0., 0., 0., 1., 1., 0., 0., 1., 0., 0., 1., 1.])"
      ]
     },
     "execution_count": 4,
     "metadata": {},
     "output_type": "execute_result"
    }
   ],
   "source": [
    "clf.classes_\n",
    "test_set['CancerType'] == 'Control'\n",
    "test_probabilities[:, 1]"
   ]
  },
  {
   "cell_type": "code",
   "execution_count": 7,
   "metadata": {},
   "outputs": [
    {
     "data": {
      "text/plain": [
       "(array([ 24., 109., 209., 138.,  20.]),\n",
       " array([0.37037037, 0.45467068, 0.53897099, 0.6232713 , 0.70757161,\n",
       "        0.79187192]),\n",
       " <BarContainer object of 5 artists>)"
      ]
     },
     "execution_count": 7,
     "metadata": {},
     "output_type": "execute_result"
    },
    {
     "data": {
      "image/png": "[encoded data removed]",
      "text/plain": [
       "<Figure size 640x480 with 1 Axes>"
      ]
     },
     "metadata": {},
     "output_type": "display_data"
    }
   ],
   "source": [
    "plt.hist(performance_metrics['Weighted Accuracy'], bins=5, color='blue', edgecolor='black')"
   ]
  }
 ],
 "metadata": {
  "kernelspec": {
   "display_name": "Python 3",
   "language": "python",
   "name": "python3"
  },
  "language_info": {
   "codemirror_mode": {
    "name": "ipython",
    "version": 3
   },
   "file_extension": ".py",
   "mimetype": "text/x-python",
   "name": "python",
   "nbconvert_exporter": "python",
   "pygments_lexer": "ipython3",
   "version": "3.10.11"
  }
 },
 "nbformat": 4,
 "nbformat_minor": 2
}
